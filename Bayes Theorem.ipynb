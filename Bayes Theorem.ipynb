{
 "cells": [
  {
   "cell_type": "markdown",
   "id": "8dac24a4",
   "metadata": {},
   "source": [
    "Q1 A man is known to speak the truth ¾ times. He draws a card and reports it is King .\n",
    "Find the probability that it is actually a King.\n"
   ]
  },
  {
   "cell_type": "code",
   "execution_count": null,
   "id": "e3b79cad",
   "metadata": {},
   "outputs": [],
   "source": [
    "truth = 3/4\n",
    "king = 4/52\n"
   ]
  },
  {
   "cell_type": "code",
   "execution_count": null,
   "id": "b3303d8f",
   "metadata": {},
   "outputs": [],
   "source": []
  },
  {
   "cell_type": "markdown",
   "id": "ccddd94a",
   "metadata": {},
   "source": [
    "Q2 Assume that the chances of a person having a skin disease are 40%. Assuming that skin creams and drinking enough water reduces the risk of skin disease by 30% and prescription of a certain drug reduces its chance by 20%. At a time, a patient can choose any one of the two options with equal probabilities. It is given that after picking one of the options, the patient selected at random has the skin disease. Find the probability that the patient picked the option of skin screams and drinking enough water using the Bayes theorem."
   ]
  },
  {
   "cell_type": "code",
   "execution_count": null,
   "id": "6fb1e600",
   "metadata": {},
   "outputs": [],
   "source": [
    "\n"
   ]
  },
  {
   "cell_type": "markdown",
   "id": "accfd7a4",
   "metadata": {},
   "source": [
    "Q3   A bag I contains 4 white and 6 black balls while another Bag II contains 4 white and 3 black balls. One ball is drawn at random from one of the bags, and it is found to be black. Find the probability that it was drawn from Bag I."
   ]
  },
  {
   "cell_type": "code",
   "execution_count": 2,
   "id": "42261808",
   "metadata": {},
   "outputs": [
    {
     "data": {
      "text/plain": [
       "0.5833333333333334"
      ]
     },
     "execution_count": 2,
     "metadata": {},
     "output_type": "execute_result"
    }
   ],
   "source": [
    "A1 = 6/10 \n",
    "A2 = 3/7\n",
    "B = 1/2\n",
    "\n",
    "ball = (B*A1)/(B*A1+B*A2)\n",
    "ball"
   ]
  },
  {
   "cell_type": "markdown",
   "id": "5d6b7b49",
   "metadata": {},
   "source": [
    "Q4 A bag contains 4 balls. Two balls drawn at random without replacement and are found to be blue.what is the probability that all balls in the bag are blue?"
   ]
  },
  {
   "cell_type": "code",
   "execution_count": null,
   "id": "c55153d8",
   "metadata": {},
   "outputs": [],
   "source": [
    "A1 = 4\n"
   ]
  },
  {
   "cell_type": "markdown",
   "id": "3b8df0aa",
   "metadata": {},
   "source": [
    "Q5 1% of a population have a certain disease and the remaining 99% are free from this disease. A test is used to detect this disease. This test is positive in 95% of the people with the disease and is also (falsely) positive in 2% of the people free from the disease.\n",
    "If a person, selected at random from this population, has tested positive, what is the probability that she/he has the disease?\n"
   ]
  },
  {
   "cell_type": "code",
   "execution_count": null,
   "id": "4e2c98ba",
   "metadata": {},
   "outputs": [],
   "source": []
  },
  {
   "cell_type": "markdown",
   "id": "7cf1efae",
   "metadata": {},
   "source": [
    "Q6  If we have to calculate the probability of taking a blue ball from the second bag out of three different bags of balls, where each bag contains three different colour balls viz. red, blue, black."
   ]
  },
  {
   "cell_type": "code",
   "execution_count": null,
   "id": "7429ebf6",
   "metadata": {},
   "outputs": [],
   "source": []
  },
  {
   "cell_type": "markdown",
   "id": "781d38a8",
   "metadata": {},
   "source": [
    "Q7   Given the following statistics, what is the probability that a woman has cancer if she has a positive mammogram result?\n",
    "One percent of women over 50 have breast cancer.\n",
    "Ninety percent of women who have breast cancer test positive on mammograms.\n",
    "Eight percent of women will have false positives\n"
   ]
  },
  {
   "cell_type": "code",
   "execution_count": null,
   "id": "328a58a5",
   "metadata": {},
   "outputs": [],
   "source": []
  },
  {
   "cell_type": "markdown",
   "id": "31cf7030",
   "metadata": {},
   "source": [
    "\n",
    "Q8 Amy has two bags. Bag I has 7 red and 2 blue balls and bag II has 5 red and 9 blue balls. Amy draws a ball at random and it turns out to be red. Determine the probability that the ball was from the bag I using the Bayes theorem"
   ]
  },
  {
   "cell_type": "code",
   "execution_count": null,
   "id": "5195cc7a",
   "metadata": {},
   "outputs": [],
   "source": []
  },
  {
   "cell_type": "markdown",
   "id": "656178a3",
   "metadata": {},
   "source": [
    "Q9  Two urns identical in appearance, contain respectively 3 white and 2 black balls and 2 white and 5 black balls . one urn is selected at random , and a ball is drawn from it . what is the probability that it is black?"
   ]
  },
  {
   "cell_type": "code",
   "execution_count": null,
   "id": "6138301c",
   "metadata": {},
   "outputs": [],
   "source": [
    "w = 5\n",
    "b = 7 \n"
   ]
  },
  {
   "cell_type": "markdown",
   "id": "39166f1e",
   "metadata": {},
   "source": [
    "Q10 An insurance company insured 2000 scooter drivers, 4000 car drivers and 6000 truck drivers. The probability of an accident involving a scooter driver , car driver and a truck driver is 0.01, 0.03, 0.015. One of the insured persons meets with an accident. What is the probability that he is a scooter driver"
   ]
  },
  {
   "cell_type": "code",
   "execution_count": 1,
   "id": "a8fdf234",
   "metadata": {},
   "outputs": [
    {
     "data": {
      "text/plain": [
       "0.08695652173913043"
      ]
     },
     "execution_count": 1,
     "metadata": {},
     "output_type": "execute_result"
    }
   ],
   "source": [
    "s = 2000\n",
    "c = 4000\n",
    "t = 6000\n",
    "\n",
    "s1 = 0.01\n",
    "c1 = 0.03\n",
    "t1 =0.015\n",
    "\n",
    "scooter = (s*s1)/(s*s1+c*c1+t*t1)\n",
    "\n",
    "scooter"
   ]
  },
  {
   "cell_type": "markdown",
   "id": "3d093aa6",
   "metadata": {},
   "source": [
    "Q11 Three urns contain 6 red, 4 black; 4 red, 6 black, and 5 red, 5 black balls respectively. One of the urns is selected at random and a ball is drawn from it. If the ball drawn is red, find the probability that it is drawn from the first urn."
   ]
  },
  {
   "cell_type": "code",
   "execution_count": null,
   "id": "4688cb85",
   "metadata": {},
   "outputs": [],
   "source": []
  },
  {
   "cell_type": "markdown",
   "id": "4c0e6d99",
   "metadata": {},
   "source": [
    "Q12  A jar containing 8 marbles of which 4 red and 4 blue marbles are there. Find the probability of getting a red given the first one was red too.\n",
    "a) 4/13\n",
    "b) 2/11\n",
    "c) 3/7\n",
    "d) 8/15\n"
   ]
  },
  {
   "cell_type": "code",
   "execution_count": 7,
   "id": "e0b1d5a6",
   "metadata": {},
   "outputs": [
    {
     "data": {
      "text/plain": [
       "0.5"
      ]
     },
     "execution_count": 7,
     "metadata": {},
     "output_type": "execute_result"
    }
   ],
   "source": [
    "jar = 8 \n",
    "r = 4/8 \n",
    "b = 4\n",
    "ab = (jar*r)/(jar*r+jar*b)\n",
    "ab"
   ]
  },
  {
   "cell_type": "markdown",
   "id": "69e716a1",
   "metadata": {},
   "source": [
    "Q13 Three persons A, B and C have applied for a job in a private company. The chance of their selections is in the ratio 1 : 2 : 4. The probabilities that A, B and C can introduce changes to improve the profits of the company are 0.8, 0.5 and 0.3, respectively. If the change does not take place, find the probability that it is due to the appointment of C."
   ]
  },
  {
   "cell_type": "code",
   "execution_count": 6,
   "id": "d0d830b1",
   "metadata": {},
   "outputs": [
    {
     "data": {
      "text/plain": [
       "0.3333333333333333"
      ]
     },
     "execution_count": 6,
     "metadata": {},
     "output_type": "execute_result"
    }
   ],
   "source": [
    "A = 1/7\n",
    "B = 2/7\n",
    "C = 3/7\n",
    "\n",
    "A1 = 0.8\n",
    "B1 = 0.5\n",
    "C1 = 0.3\n",
    "\n",
    "job = (C*C1)/(C*C1+A*A1+B*B1)\n",
    "job"
   ]
  }
 ],
 "metadata": {
  "kernelspec": {
   "display_name": "Python 3 (ipykernel)",
   "language": "python",
   "name": "python3"
  },
  "language_info": {
   "codemirror_mode": {
    "name": "ipython",
    "version": 3
   },
   "file_extension": ".py",
   "mimetype": "text/x-python",
   "name": "python",
   "nbconvert_exporter": "python",
   "pygments_lexer": "ipython3",
   "version": "3.9.12"
  }
 },
 "nbformat": 4,
 "nbformat_minor": 5
}
