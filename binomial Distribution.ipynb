{
 "cells": [
  {
   "cell_type": "code",
   "execution_count": 1,
   "id": "e8a3dd2e",
   "metadata": {},
   "outputs": [],
   "source": [
    "from scipy.stats import binom"
   ]
  },
  {
   "cell_type": "markdown",
   "id": "155f27b3",
   "metadata": {},
   "source": [
    "Q1\n",
    "Question: If from six to seven in the evening one telephone line in every five is engaged in a conversation: what is the probability that when 10 telephone numbers are chosen at random, only two are in use?\n"
   ]
  },
  {
   "cell_type": "code",
   "execution_count": 31,
   "id": "5a56b07d",
   "metadata": {},
   "outputs": [
    {
     "data": {
      "text/plain": [
       "0.30198988800000004"
      ]
     },
     "execution_count": 31,
     "metadata": {},
     "output_type": "execute_result"
    }
   ],
   "source": [
    "binom.pmf(2,10,0.2)"
   ]
  },
  {
   "cell_type": "markdown",
   "id": "c1c7b2c4",
   "metadata": {},
   "source": [
    "Q2 In the old days, there was a probability of 0.8 of success in any attempt to make a telephone call. (This often depended on the importance of the person making the call, or the operator's curiosity!)\n",
    "Calculate the probability of having 7 successes in 10 attempts.\n"
   ]
  },
  {
   "cell_type": "code",
   "execution_count": 3,
   "id": "521b36c0",
   "metadata": {},
   "outputs": [
    {
     "data": {
      "text/plain": [
       "0.20132659199999978"
      ]
     },
     "execution_count": 3,
     "metadata": {},
     "output_type": "execute_result"
    }
   ],
   "source": [
    "binom.pmf(7,10,0.8)"
   ]
  },
  {
   "cell_type": "markdown",
   "id": "2b1bc4c6",
   "metadata": {},
   "source": [
    "Q3  A box of candies has many different colors in it.There is a 15% chance of getting a pink candy . what is the probability that exactly 4 candies in a box are pink out of 10?"
   ]
  },
  {
   "cell_type": "code",
   "execution_count": 4,
   "id": "a9dd6160",
   "metadata": {},
   "outputs": [
    {
     "data": {
      "text/plain": [
       "0.04009570787988276"
      ]
     },
     "execution_count": 4,
     "metadata": {},
     "output_type": "execute_result"
    }
   ],
   "source": [
    "binom.pmf(4,10,0.15)"
   ]
  },
  {
   "cell_type": "markdown",
   "id": "4dbc2fd6",
   "metadata": {},
   "source": [
    "Q4 A biased coin is tossed 6 times. The Probability of heads on any toss is 0.3. Let X denote the number of heads that come up.\n",
    "Calculate:\n",
    "a) P(X = 2)\n",
    "b) P(X = 3)\n",
    "c) P(1<X<=5).\n"
   ]
  },
  {
   "cell_type": "code",
   "execution_count": 32,
   "id": "280febdf",
   "metadata": {
    "scrolled": true
   },
   "outputs": [
    {
     "data": {
      "text/plain": [
       "0.3241349999999999"
      ]
     },
     "execution_count": 32,
     "metadata": {},
     "output_type": "execute_result"
    }
   ],
   "source": [
    "binom.pmf(2,6,0.3)"
   ]
  },
  {
   "cell_type": "code",
   "execution_count": 33,
   "id": "7c15e0b2",
   "metadata": {
    "scrolled": true
   },
   "outputs": [
    {
     "data": {
      "text/plain": [
       "0.1852199999999999"
      ]
     },
     "execution_count": 33,
     "metadata": {},
     "output_type": "execute_result"
    }
   ],
   "source": [
    "binom.pmf(3,6,0.3)"
   ]
  },
  {
   "cell_type": "code",
   "execution_count": 35,
   "id": "7dc90ded",
   "metadata": {},
   "outputs": [
    {
     "data": {
      "text/plain": [
       "0.059535"
      ]
     },
     "execution_count": 35,
     "metadata": {},
     "output_type": "execute_result"
    }
   ],
   "source": [
    "binom.pmf(4,6,0.3)"
   ]
  },
  {
   "cell_type": "code",
   "execution_count": null,
   "id": "e644f97d",
   "metadata": {},
   "outputs": [],
   "source": [
    "binom.pmf()"
   ]
  },
  {
   "cell_type": "markdown",
   "id": "6d6981c3",
   "metadata": {},
   "source": [
    "Q5 The probability that a person can achieve a target is 3/4. The count of tries is 5. What is the probability that he will attain the target at least thrice?"
   ]
  },
  {
   "cell_type": "code",
   "execution_count": 28,
   "id": "40b9aa03",
   "metadata": {},
   "outputs": [
    {
     "data": {
      "text/plain": [
       "0.103515625"
      ]
     },
     "execution_count": 28,
     "metadata": {},
     "output_type": "execute_result"
    }
   ],
   "source": [
    "binom.cdf(2,5,0.75)"
   ]
  },
  {
   "cell_type": "code",
   "execution_count": 2,
   "id": "21cd7dba",
   "metadata": {},
   "outputs": [
    {
     "data": {
      "text/plain": [
       "0.8964843749999999"
      ]
     },
     "execution_count": 2,
     "metadata": {},
     "output_type": "execute_result"
    }
   ],
   "source": [
    "binom.pmf(3,5,0.75)+binom.pmf(4,5,0.75)+binom.pmf(5,5,0.75)"
   ]
  },
  {
   "cell_type": "markdown",
   "id": "adc442ef",
   "metadata": {},
   "source": [
    "Q6 A pharmaceutical lab states that a drug causes negative side effects in 3 of every 100 patients. To confirm this affirmation, another laboratory chooses 5 people at random who have consumed the drug. What is the probability of the following events?\n",
    " 1.None of the five patients experience side effects.\n",
    "            2.At least two experience side effects."
   ]
  },
  {
   "cell_type": "code",
   "execution_count": 3,
   "id": "da0b735e",
   "metadata": {
    "collapsed": true
   },
   "outputs": [
    {
     "data": {
      "text/plain": [
       "0.8587340256999999"
      ]
     },
     "execution_count": 3,
     "metadata": {},
     "output_type": "execute_result"
    }
   ],
   "source": [
    "binom.pmf(0,5,0.03)"
   ]
  },
  {
   "cell_type": "code",
   "execution_count": 4,
   "id": "7cba92ec",
   "metadata": {},
   "outputs": [
    {
     "data": {
      "text/plain": [
       "0.008472052800000074"
      ]
     },
     "execution_count": 4,
     "metadata": {},
     "output_type": "execute_result"
    }
   ],
   "source": [
    "1-(binom.pmf(0,5,0.03)+binom.pmf(1,5,0.03))/"
   ]
  },
  {
   "cell_type": "code",
   "execution_count": null,
   "id": "dec90526",
   "metadata": {},
   "outputs": [],
   "source": []
  },
  {
   "cell_type": "markdown",
   "id": "5c1184b5",
   "metadata": {},
   "source": []
  },
  {
   "cell_type": "markdown",
   "id": "9dd5b76a",
   "metadata": {},
   "source": [
    "Q 7 Que-A box of candies has many different colors in it.There is a 15% chance of getting a pink candy.What is the probability that exactly 4 candies in a box are pink out of 10?\n"
   ]
  },
  {
   "cell_type": "code",
   "execution_count": 18,
   "id": "7bcda451",
   "metadata": {},
   "outputs": [
    {
     "data": {
      "text/plain": [
       "0.04009570787988276"
      ]
     },
     "execution_count": 18,
     "metadata": {},
     "output_type": "execute_result"
    }
   ],
   "source": [
    "binom.pmf(4,10,0.15)"
   ]
  },
  {
   "cell_type": "markdown",
   "id": "22243b6e",
   "metadata": {},
   "source": [
    "Q8 Q.Your basketball team is playing a series of 5 games against your opponent.                 The winner is those who wins more games (out of 5).Let assume that your team is    much more skilled and has 75% chances of winning. It means there is a 25% chance of losing.What is the probability of your team get 3 wins?"
   ]
  },
  {
   "cell_type": "code",
   "execution_count": 20,
   "id": "e8f6f449",
   "metadata": {},
   "outputs": [
    {
     "data": {
      "text/plain": [
       "0.26367187499999983"
      ]
     },
     "execution_count": 20,
     "metadata": {},
     "output_type": "execute_result"
    }
   ],
   "source": [
    "binom.pmf(3,5,0.75)"
   ]
  },
  {
   "cell_type": "markdown",
   "id": "352d31e8",
   "metadata": {},
   "source": [
    "Que :- Let’s say that 80% of all business startups in the IT industry report that they generate a profit in their first year. If a sample of 10 new IT business startups is selected, find the probability that exactly seven will generate a profit in their first year.\n",
    "First, do we satisfy the conditions of the binomial distribution?\n",
    "There are only two possible mutually exclusive outcomes – to generate a profit in the first year or not (yes or no).\n",
    "There are a fixed number of trails (startups) – 10.\n",
    "The IT startups are independent and it is reasonable to assume that this is true.\n",
    "The probability of success for each startup is 0.8\n"
   ]
  },
  {
   "cell_type": "code",
   "execution_count": 22,
   "id": "f1ba9f17",
   "metadata": {},
   "outputs": [
    {
     "data": {
      "text/plain": [
       "0.20132659199999978"
      ]
     },
     "execution_count": 22,
     "metadata": {},
     "output_type": "execute_result"
    }
   ],
   "source": [
    "binom.pmf(7,10,0.80)"
   ]
  },
  {
   "cell_type": "markdown",
   "id": "56367bd1",
   "metadata": {},
   "source": [
    "Q10 If X is binomially distributed with 6 trials and a probability of success equal to 1 4 at each attempt, what is the probability of:\n",
    " (a) exactly 4 successes \n",
    " (b) at least one success?\n"
   ]
  },
  {
   "cell_type": "code",
   "execution_count": null,
   "id": "34b755d1",
   "metadata": {},
   "outputs": [],
   "source": [
    "binom.pmf(4,)"
   ]
  },
  {
   "cell_type": "markdown",
   "id": "0a45abec",
   "metadata": {},
   "source": [
    "Q11  There are 10 balls  in a bowl ,  3 of the balls are red and 7 of them are blue. If  drawing a red ball is defined as success and sampling is with replacement, find the probability of getting 5 red balls in 20 trials."
   ]
  },
  {
   "cell_type": "code",
   "execution_count": null,
   "id": "7312dba6",
   "metadata": {},
   "outputs": [],
   "source": []
  },
  {
   "cell_type": "markdown",
   "id": "1ef7478f",
   "metadata": {},
   "source": [
    "Q12 "
   ]
  }
 ],
 "metadata": {
  "kernelspec": {
   "display_name": "Python 3 (ipykernel)",
   "language": "python",
   "name": "python3"
  },
  "language_info": {
   "codemirror_mode": {
    "name": "ipython",
    "version": 3
   },
   "file_extension": ".py",
   "mimetype": "text/x-python",
   "name": "python",
   "nbconvert_exporter": "python",
   "pygments_lexer": "ipython3",
   "version": "3.9.12"
  }
 },
 "nbformat": 4,
 "nbformat_minor": 5
}
