{
 "cells": [
  {
   "cell_type": "code",
   "execution_count": 20,
   "id": "677cf362",
   "metadata": {},
   "outputs": [],
   "source": [
    "from scipy.stats import binom,hypergeom,poisson,nbinom,expon,norm\n",
    "import matplotlib.pyplot as plt\n",
    "import pandas as pd\n",
    "import numpy as np"
   ]
  },
  {
   "cell_type": "markdown",
   "id": "c97119e5",
   "metadata": {},
   "source": [
    "# 1"
   ]
  },
  {
   "cell_type": "markdown",
   "id": "e0804af8",
   "metadata": {},
   "source": [
    "Suppose you are playing a game of darts. The probability of success is 0.4. What is the probability that you will hit the bullseye on the 3rd try?"
   ]
  },
  {
   "cell_type": "code",
   "execution_count": 21,
   "id": "fb3feb4e",
   "metadata": {},
   "outputs": [
    {
     "data": {
      "text/plain": [
       "0.14400000000000002"
      ]
     },
     "execution_count": 21,
     "metadata": {},
     "output_type": "execute_result"
    }
   ],
   "source": [
    "nbinom.pmf(k=2, n=1, p=0.4)"
   ]
  },
  {
   "cell_type": "markdown",
   "id": "37d5f378",
   "metadata": {},
   "source": [
    "# 2"
   ]
  },
  {
   "cell_type": "markdown",
   "id": "bd0f9c4a",
   "metadata": {},
   "source": [
    "A light bulb manufacturing factory finds 3 in every 60 light bulbs defective. What is the probability that the first defective light bulb with be found when the 6th one is tested?\n"
   ]
  },
  {
   "cell_type": "code",
   "execution_count": 22,
   "id": "a72a4fb2",
   "metadata": {},
   "outputs": [
    {
     "data": {
      "text/plain": [
       "0.038689046874999994"
      ]
     },
     "execution_count": 22,
     "metadata": {},
     "output_type": "execute_result"
    }
   ],
   "source": [
    "nbinom.pmf(k=5, n=1, p=3/60)"
   ]
  },
  {
   "cell_type": "markdown",
   "id": "811b24ef",
   "metadata": {},
   "source": [
    "# 3"
   ]
  },
  {
   "cell_type": "markdown",
   "id": "10c279cf",
   "metadata": {},
   "source": [
    "Que- Suppose Max owns a lightbulb manufacturing company and determines 3 out of every 75 bulbs are defective.what is the probability that max will find the first faulty lightbulb on the 6th one that he tested?"
   ]
  },
  {
   "cell_type": "code",
   "execution_count": 23,
   "id": "37411830",
   "metadata": {},
   "outputs": [
    {
     "data": {
      "text/plain": [
       "0.032614907904"
      ]
     },
     "execution_count": 23,
     "metadata": {},
     "output_type": "execute_result"
    }
   ],
   "source": [
    "nbinom.pmf(k=5, n=1, p=3/75)"
   ]
  },
  {
   "cell_type": "markdown",
   "id": "31e4f42d",
   "metadata": {},
   "source": [
    "# 4"
   ]
  },
  {
   "cell_type": "code",
   "execution_count": 24,
   "id": "9e070f72",
   "metadata": {},
   "outputs": [
    {
     "name": "stdout",
     "output_type": "stream",
     "text": [
      "Object `homework` not found.\n"
     ]
    }
   ],
   "source": [
    "In a class there are 35% students  doing their homework regularly.if from this class students are selected randomly ,what is the probability that the 5th student’s homework is the 1st that has completed their homework?"
   ]
  },
  {
   "cell_type": "code",
   "execution_count": null,
   "id": "d4a74646",
   "metadata": {},
   "outputs": [],
   "source": [
    "In a class there are 35% students  doing their homework regularly.if from this class students are selected randomly ,what is the probability that the 5th student’s homework is the 1st that has completed their homework"
   ]
  },
  {
   "cell_type": "code",
   "execution_count": 25,
   "id": "b301cf5f",
   "metadata": {},
   "outputs": [
    {
     "data": {
      "text/plain": [
       "0.0624771875"
      ]
     },
     "execution_count": 25,
     "metadata": {},
     "output_type": "execute_result"
    }
   ],
   "source": [
    "nbinom.pmf(k=4, n=1, p=35/100)"
   ]
  },
  {
   "cell_type": "markdown",
   "id": "71f6dbf7",
   "metadata": {},
   "source": [
    "# 5"
   ]
  },
  {
   "cell_type": "markdown",
   "id": "0c2a56ce",
   "metadata": {},
   "source": [
    "Suppose it’s known that 4% of individuals who visit a certain bank are visiting to file bankruptcy. Suppose a banker wants to know the probability that he will meet with less than 10 people before encountering someone who is filing for bankruptcy."
   ]
  },
  {
   "cell_type": "code",
   "execution_count": 26,
   "id": "6c955a48",
   "metadata": {},
   "outputs": [
    {
     "data": {
      "text/plain": [
       "0.0277013598329792"
      ]
     },
     "execution_count": 26,
     "metadata": {},
     "output_type": "execute_result"
    }
   ],
   "source": [
    "nbinom.pmf(k=9, n=1, p=0.04)"
   ]
  },
  {
   "cell_type": "markdown",
   "id": "7161456a",
   "metadata": {},
   "source": [
    "# 6"
   ]
  },
  {
   "cell_type": "markdown",
   "id": "e794943d",
   "metadata": {},
   "source": [
    "Suppose a dice is repeatedly rolled until \"3\" is obtained. Then the probability of getting \"3\" is p = 1 / 6 and the random variable, X, can take on a value of 1, 2, 3, ...., until the first success is obtained. This is an example of a geometric distribution with p = 1 / 6.\n"
   ]
  },
  {
   "cell_type": "code",
   "execution_count": 6,
   "id": "2aac8e76",
   "metadata": {},
   "outputs": [
    {
     "data": {
      "text/plain": [
       "0.08099999999999997"
      ]
     },
     "execution_count": 6,
     "metadata": {},
     "output_type": "execute_result"
    }
   ],
   "source": [
    "nbinom.pmf(k=2,n=1,p=0.1)"
   ]
  },
  {
   "cell_type": "markdown",
   "id": "4c9cbf96",
   "metadata": {},
   "source": [
    "# 7"
   ]
  },
  {
   "cell_type": "markdown",
   "id": "039130bb",
   "metadata": {},
   "source": [
    " Suppose you are playing a game of darts. The probability of success is 0.4. What is the probability that you will hit the bullseye on the third try?"
   ]
  },
  {
   "cell_type": "code",
   "execution_count": 7,
   "id": "6c382242",
   "metadata": {},
   "outputs": [
    {
     "data": {
      "text/plain": [
       "0.14400000000000002"
      ]
     },
     "execution_count": 7,
     "metadata": {},
     "output_type": "execute_result"
    }
   ],
   "source": [
    "nbinom.pmf(k=2,n=1,p=0.4)"
   ]
  },
  {
   "cell_type": "markdown",
   "id": "c0cb7955",
   "metadata": {},
   "source": [
    "# 8\n"
   ]
  },
  {
   "cell_type": "markdown",
   "id": "506754ba",
   "metadata": {},
   "source": [
    "If your probability of success is 0.2, what is the probability you meet an independent voter on your third try?  Inserting 0.2 as p and with X = 3, the probability density function becomes:"
   ]
  },
  {
   "cell_type": "code",
   "execution_count": 10,
   "id": "f27176b7",
   "metadata": {},
   "outputs": [
    {
     "data": {
      "text/plain": [
       "0.12799999999999997"
      ]
     },
     "execution_count": 10,
     "metadata": {},
     "output_type": "execute_result"
    }
   ],
   "source": [
    "nbinom.pmf(k=2,n=1,p=0.2)"
   ]
  },
  {
   "cell_type": "markdown",
   "id": "668e5ef1",
   "metadata": {},
   "source": [
    "# 9"
   ]
  },
  {
   "cell_type": "markdown",
   "id": "95cf885e",
   "metadata": {},
   "source": [
    "     Matthew is a high school basketball player and a 75% free throw shooter. Calculate what will be the probability that Matthew makes his first free throw on his fifth shot?"
   ]
  },
  {
   "cell_type": "code",
   "execution_count": 14,
   "id": "e8154efd",
   "metadata": {},
   "outputs": [
    {
     "data": {
      "text/plain": [
       "0.0029296875000000004"
      ]
     },
     "execution_count": 14,
     "metadata": {},
     "output_type": "execute_result"
    }
   ],
   "source": [
    "nbinom.pmf(k=4,n=1,p=0.75)"
   ]
  },
  {
   "cell_type": "markdown",
   "id": "7e8b7616",
   "metadata": {},
   "source": [
    "# 10"
   ]
  },
  {
   "cell_type": "markdown",
   "id": "ce64291a",
   "metadata": {},
   "source": [
    "You play a game of chance that you can either win or lose (there are no other possibilities) until you lose. Your probability of losing is \n",
    "p=\n",
    "0.57\n",
    ". What is the probability that it takes five games until you lose?\n"
   ]
  },
  {
   "cell_type": "code",
   "execution_count": 17,
   "id": "12ad5e11",
   "metadata": {},
   "outputs": [
    {
     "data": {
      "text/plain": [
       "0.019487165700000017"
      ]
     },
     "execution_count": 17,
     "metadata": {},
     "output_type": "execute_result"
    }
   ],
   "source": [
    "nbinom.pmf(k=4,n=1,p=0.57)"
   ]
  },
  {
   "cell_type": "code",
   "execution_count": null,
   "id": "0f56f319",
   "metadata": {},
   "outputs": [],
   "source": []
  }
 ],
 "metadata": {
  "kernelspec": {
   "display_name": "Python 3 (ipykernel)",
   "language": "python",
   "name": "python3"
  },
  "language_info": {
   "codemirror_mode": {
    "name": "ipython",
    "version": 3
   },
   "file_extension": ".py",
   "mimetype": "text/x-python",
   "name": "python",
   "nbconvert_exporter": "python",
   "pygments_lexer": "ipython3",
   "version": "3.9.12"
  }
 },
 "nbformat": 4,
 "nbformat_minor": 5
}
