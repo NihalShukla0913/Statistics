{
 "cells": [
  {
   "cell_type": "markdown",
   "id": "6ae99f0f",
   "metadata": {},
   "source": [
    "Q1 -If A and B are mutually exclusive events p(A)=⅜ and p(B)=⅛ ,the find\n",
    "       1)p(A’)\n",
    "       2)p(AUB) \n"
   ]
  },
  {
   "cell_type": "code",
   "execution_count": 4,
   "id": "6948c8cc",
   "metadata": {},
   "outputs": [
    {
     "data": {
      "text/plain": [
       "0.625"
      ]
     },
     "execution_count": 4,
     "metadata": {},
     "output_type": "execute_result"
    }
   ],
   "source": [
    "a = 3/8\n",
    "b = 1/8\n",
    "a_and_b = 1 - a\n",
    "a_and_b"
   ]
  },
  {
   "cell_type": "code",
   "execution_count": 5,
   "id": "7ababdf1",
   "metadata": {},
   "outputs": [
    {
     "data": {
      "text/plain": [
       "0.5"
      ]
     },
     "execution_count": 5,
     "metadata": {},
     "output_type": "execute_result"
    }
   ],
   "source": [
    "a_union_b = a+b \n",
    "a_union_b"
   ]
  },
  {
   "cell_type": "markdown",
   "id": "a7a14727",
   "metadata": {},
   "source": [
    "Q2  If the probability of solving a problem by 2 students George and James are 1/2 and 1/3 respectively then what is the probability of the problem to be solved."
   ]
  },
  {
   "cell_type": "code",
   "execution_count": 4,
   "id": "e7643322",
   "metadata": {},
   "outputs": [
    {
     "data": {
      "text/plain": [
       "0.5"
      ]
     },
     "execution_count": 4,
     "metadata": {},
     "output_type": "execute_result"
    }
   ],
   "source": [
    "a = 1/2\n",
    "b = 1/3\n",
    "a_union_b = a+b\n",
    "a_and_b"
   ]
  },
  {
   "cell_type": "markdown",
   "id": "8820677a",
   "metadata": {},
   "source": [
    "Q3 What is the probability of drawing either a king or a queen in a single draw from a well shuffled pack of 52 cards?"
   ]
  },
  {
   "cell_type": "code",
   "execution_count": 5,
   "id": "ab95d4a8",
   "metadata": {},
   "outputs": [
    {
     "data": {
      "text/plain": [
       "0.15384615384615385"
      ]
     },
     "execution_count": 5,
     "metadata": {},
     "output_type": "execute_result"
    }
   ],
   "source": [
    "a = 4/52\n",
    "b = 4/52\n",
    "a_union_b = a+b \n",
    "a_union_b "
   ]
  },
  {
   "cell_type": "markdown",
   "id": "c75b2149",
   "metadata": {},
   "source": [
    "Q4  A and B are two candidates seeking admission to IIT. The probability that A getting selected is 0.5, the probability of B getting selected is 0.7 and the probability that both A and B getting selected is 0.3. What is the probability that it could be either candidate A or B."
   ]
  },
  {
   "cell_type": "code",
   "execution_count": 4,
   "id": "93a1e88e",
   "metadata": {},
   "outputs": [
    {
     "data": {
      "text/plain": [
       "0.8999999999999999"
      ]
     },
     "execution_count": 4,
     "metadata": {},
     "output_type": "execute_result"
    }
   ],
   "source": [
    "a = 0.5\n",
    "b = 0.7\n",
    "a_and_b = 0.3\n",
    "a_union_b = a+b-a_and_b\n",
    "a_union_b"
   ]
  },
  {
   "cell_type": "markdown",
   "id": "38ef4379",
   "metadata": {},
   "source": [
    "Q5  A bag contains 30 balls numbered from 1 to 30. One ball is drawn at random, find the probability that the number of the ball will be multiple of 5 or 9."
   ]
  },
  {
   "cell_type": "code",
   "execution_count": 12,
   "id": "4407aebe",
   "metadata": {},
   "outputs": [
    {
     "data": {
      "text/plain": [
       "0.3"
      ]
     },
     "execution_count": 12,
     "metadata": {},
     "output_type": "execute_result"
    }
   ],
   "source": [
    "a = 6/30\n",
    "b = 3/30\n",
    "ab = round(a+b,1)\n",
    "ab"
   ]
  },
  {
   "cell_type": "markdown",
   "id": "6c68f9ae",
   "metadata": {},
   "source": [
    "Q6 A die is thrown twice. Let A be the event, ‘First die shows 5’ and B be the event, ‘second die shows 5’. Find P(A∪B) "
   ]
  },
  {
   "cell_type": "code",
   "execution_count": 14,
   "id": "d641e010",
   "metadata": {},
   "outputs": [
    {
     "data": {
      "text/plain": [
       "0.3333333333333333"
      ]
     },
     "execution_count": 14,
     "metadata": {},
     "output_type": "execute_result"
    }
   ],
   "source": [
    "a = 1/6\n",
    "b = 1/6\n",
    "a_union_b = a+b \n",
    "a_union_b"
   ]
  },
  {
   "cell_type": "markdown",
   "id": "d9c16c00",
   "metadata": {},
   "source": [
    "Q7 Two dice are tossed once. Find the probability of getting an even number on first dice or a total of 8."
   ]
  },
  {
   "cell_type": "code",
   "execution_count": 18,
   "id": "03acd5ee",
   "metadata": {},
   "outputs": [
    {
     "data": {
      "text/plain": [
       "0.19444444444444442"
      ]
     },
     "execution_count": 18,
     "metadata": {},
     "output_type": "execute_result"
    }
   ],
   "source": [
    "a = 3/36\n",
    "b = 5/36\n",
    "a_intersection_b = 1/36\n",
    "a_union_b = a+b - a_intersection_b\n",
    "a_union_b"
   ]
  },
  {
   "cell_type": "markdown",
   "id": "63eb9f24",
   "metadata": {},
   "source": [
    "Q8 A person can hit a target in 3 out 4 shots, whereas another person can hit the target in 2 out of 3 shots. Find the probability of the targets being hit at all when they both try"
   ]
  },
  {
   "cell_type": "code",
   "execution_count": 22,
   "id": "0ccf60fb",
   "metadata": {},
   "outputs": [
    {
     "data": {
      "text/plain": [
       "0.5833333333333334"
      ]
     },
     "execution_count": 22,
     "metadata": {},
     "output_type": "execute_result"
    }
   ],
   "source": [
    "a = 3/4\n",
    "b =2/3\n",
    "A = 1-3/4\n",
    "B = 1-2/3\n",
    "A_and_B = A+B\n",
    "A_and_B"
   ]
  },
  {
   "cell_type": "markdown",
   "id": "22c10a26",
   "metadata": {},
   "source": [
    "Q9  If A and B are two events associated with a random experiment for which P(A) = 0.35, P(A or B) = 0.85, and P(A and B) = 0.15. \n",
    "Find \n",
    "        (i) P(only B)\n",
    "        (ii) P(B') \n",
    "        (iii) P(only A)\n"
   ]
  },
  {
   "cell_type": "code",
   "execution_count": 25,
   "id": "874a471d",
   "metadata": {},
   "outputs": [
    {
     "name": "stdout",
     "output_type": "stream",
     "text": [
      "0.65\n",
      "0.35\n"
     ]
    }
   ],
   "source": [
    "a=0.35\n",
    "a_or_b = 0.85\n",
    "a_and_b = 0.15 \n",
    "b = a_or_b + a_and_b - a\n",
    "b_1 = 1 - b\n",
    "print(b)\n",
    "print(b_1)"
   ]
  },
  {
   "cell_type": "code",
   "execution_count": null,
   "id": "0c36a2ca",
   "metadata": {},
   "outputs": [],
   "source": []
  },
  {
   "cell_type": "code",
   "execution_count": null,
   "id": "0f074de8",
   "metadata": {},
   "outputs": [],
   "source": []
  },
  {
   "cell_type": "code",
   "execution_count": null,
   "id": "b8ea58cb",
   "metadata": {},
   "outputs": [],
   "source": []
  },
  {
   "cell_type": "markdown",
   "id": "a95b102e",
   "metadata": {},
   "source": [
    "Q11  A number is selected from the first 20 natural numbers. Find the probability that it would be divisible by 3 or 7?\n",
    "a) 19/46\n",
    "b) 24/67\n",
    "c) 12/37\n",
    "d) 7/20\n"
   ]
  },
  {
   "cell_type": "code",
   "execution_count": 26,
   "id": "29269806",
   "metadata": {},
   "outputs": [
    {
     "data": {
      "text/plain": [
       "0.4"
      ]
     },
     "execution_count": 26,
     "metadata": {},
     "output_type": "execute_result"
    }
   ],
   "source": [
    "a = 6/20\n",
    "b = 2/20\n",
    "a_and_b = a+b \n",
    "a_and_b\n"
   ]
  },
  {
   "cell_type": "markdown",
   "id": "595c8a9e",
   "metadata": {},
   "source": [
    "Q12     If A and B are two events such thatP (A) = 1/4 , P (B) = 1/2 and P(A and B)= 1/8, find (i) P (A or B) (ii) P(not A and not B)."
   ]
  },
  {
   "cell_type": "code",
   "execution_count": 6,
   "id": "6155748a",
   "metadata": {},
   "outputs": [
    {
     "data": {
      "text/plain": [
       "0.625"
      ]
     },
     "execution_count": 6,
     "metadata": {},
     "output_type": "execute_result"
    }
   ],
   "source": [
    "a = 1/4\n",
    "b = 1/2\n",
    "a_and_b = 1/8\n",
    "a_union_b = a+b - a_and_b \n",
    "a_union_b"
   ]
  },
  {
   "cell_type": "code",
   "execution_count": 7,
   "id": "f9897499",
   "metadata": {},
   "outputs": [
    {
     "data": {
      "text/plain": [
       "0.875"
      ]
     },
     "execution_count": 7,
     "metadata": {},
     "output_type": "execute_result"
    }
   ],
   "source": [
    "1 - a_and_b"
   ]
  }
 ],
 "metadata": {
  "kernelspec": {
   "display_name": "Python 3 (ipykernel)",
   "language": "python",
   "name": "python3"
  },
  "language_info": {
   "codemirror_mode": {
    "name": "ipython",
    "version": 3
   },
   "file_extension": ".py",
   "mimetype": "text/x-python",
   "name": "python",
   "nbconvert_exporter": "python",
   "pygments_lexer": "ipython3",
   "version": "3.9.12"
  }
 },
 "nbformat": 4,
 "nbformat_minor": 5
}
